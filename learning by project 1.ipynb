{
 "cells": [
  {
   "cell_type": "markdown",
   "id": "cf8def27-9157-4db0-9a21-12c61c5aab4e",
   "metadata": {},
   "source": [
    "STEP 1"
   ]
  },
  {
   "cell_type": "code",
   "execution_count": 1,
   "id": "d5422d77-1448-4f2a-9256-e1bc08587f9e",
   "metadata": {},
   "outputs": [
    {
     "name": "stdout",
     "output_type": "stream",
     "text": [
      "Hello World!!\n"
     ]
    }
   ],
   "source": [
    "print(\"Hello World!!\")"
   ]
  },
  {
   "cell_type": "markdown",
   "id": "bb0d9657-3a30-4d40-91e8-1377d6aaa670",
   "metadata": {},
   "source": [
    "STEP 2"
   ]
  },
  {
   "cell_type": "code",
   "execution_count": 2,
   "id": "7bef1fd5-28e5-40a5-8a1e-636f8c94a1ae",
   "metadata": {},
   "outputs": [
    {
     "name": "stdin",
     "output_type": "stream",
     "text": [
      "What is you name?  satria\n"
     ]
    },
    {
     "name": "stdout",
     "output_type": "stream",
     "text": [
      "Hello  satria\n"
     ]
    }
   ],
   "source": [
    "name = input(\"What is you name? \")\n",
    "print(\"Hello \", name)"
   ]
  },
  {
   "cell_type": "code",
   "execution_count": 3,
   "id": "afaeabf9-4057-4350-b2db-741323b68ede",
   "metadata": {},
   "outputs": [
    {
     "name": "stdout",
     "output_type": "stream",
     "text": [
      " I LIKE CAPITAL LETTER SATRIA\n"
     ]
    }
   ],
   "source": [
    "name = name.upper()\n",
    "print(\" I LIKE CAPITAL LETTER\", name)"
   ]
  },
  {
   "cell_type": "markdown",
   "id": "f727b678-50fd-4f75-bf9a-fa102663b007",
   "metadata": {},
   "source": [
    "Variable is reserved memory location\n",
    "variabel merupaka suatu inisialisasi yang dapat digunakan dengan menambahkan suatu kata yang dipakai untuk menyimpan suatu nilai agar dapat di panggil jika suatu waktu di butuhkan"
   ]
  },
  {
   "cell_type": "markdown",
   "id": "e19ca59e-6e9f-4547-ad9d-8aec907c0f20",
   "metadata": {},
   "source": [
    "VARIABLE"
   ]
  },
  {
   "cell_type": "code",
   "execution_count": 6,
   "id": "3f99f880-6b81-456f-9879-146adb13ad63",
   "metadata": {},
   "outputs": [
    {
     "data": {
      "text/plain": [
       "str"
      ]
     },
     "execution_count": 6,
     "metadata": {},
     "output_type": "execute_result"
    }
   ],
   "source": [
    "s = \"ini string\"\n",
    "type(s)"
   ]
  },
  {
   "cell_type": "markdown",
   "id": "3fa7a127-ad83-4b7e-a737-63b663b95bd1",
   "metadata": {},
   "source": [
    "PROJECT 2"
   ]
  },
  {
   "cell_type": "markdown",
   "id": "cecf2340-a7cd-4867-8d67-28986ee0466f",
   "metadata": {},
   "source": [
    "STEP 1"
   ]
  },
  {
   "cell_type": "code",
   "execution_count": 7,
   "id": "bcd149e6-857c-43be-b32d-b83e09c80188",
   "metadata": {},
   "outputs": [
    {
     "name": "stdin",
     "output_type": "stream",
     "text": [
      " 9\n"
     ]
    },
    {
     "data": {
      "text/plain": [
       "19.8414"
      ]
     },
     "execution_count": 7,
     "metadata": {},
     "output_type": "execute_result"
    }
   ],
   "source": [
    "kg = int(input())\n",
    "lbs = kg * 2.2046\n",
    "lbs"
   ]
  },
  {
   "cell_type": "markdown",
   "id": "1799a9b3-a0b6-487e-91d3-c765bb0e0c43",
   "metadata": {},
   "source": [
    "STEP 2"
   ]
  },
  {
   "cell_type": "code",
   "execution_count": 1,
   "id": "fe04e4e8-c0f4-4d4d-b559-2034b961dd0d",
   "metadata": {},
   "outputs": [
    {
     "name": "stdin",
     "output_type": "stream",
     "text": [
      " 32\n"
     ]
    },
    {
     "data": {
      "text/plain": [
       "200.96"
      ]
     },
     "execution_count": 1,
     "metadata": {},
     "output_type": "execute_result"
    }
   ],
   "source": [
    "r = float(input())\n",
    "pi = 3.14\n",
    "c = 2 * pi * r\n",
    "c"
   ]
  },
  {
   "cell_type": "code",
   "execution_count": 2,
   "id": "1a9a3476-ed11-45a8-88bd-154628cc5c1d",
   "metadata": {},
   "outputs": [
    {
     "data": {
      "text/plain": [
       "2.0"
      ]
     },
     "execution_count": 2,
     "metadata": {},
     "output_type": "execute_result"
    }
   ],
   "source": [
    "number = 10\n",
    "number = number * 3\n",
    "number = number + 6\n",
    "number = number / 3\n",
    "number = number - 10\n",
    "number"
   ]
  },
  {
   "cell_type": "code",
   "execution_count": null,
   "id": "3da3948a-af34-4328-8c6a-6b905179354d",
   "metadata": {},
   "outputs": [],
   "source": []
  }
 ],
 "metadata": {
  "kernelspec": {
   "display_name": "Python 3 (ipykernel)",
   "language": "python",
   "name": "python3"
  },
  "language_info": {
   "codemirror_mode": {
    "name": "ipython",
    "version": 3
   },
   "file_extension": ".py",
   "mimetype": "text/x-python",
   "name": "python",
   "nbconvert_exporter": "python",
   "pygments_lexer": "ipython3",
   "version": "3.10.4"
  }
 },
 "nbformat": 4,
 "nbformat_minor": 5
}
