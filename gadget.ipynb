{
 "cells": [
  {
   "cell_type": "code",
   "execution_count": 1,
   "metadata": {},
   "outputs": [],
   "source": [
    "import pandas as pd\n",
    "import matplotlib.pyplot as plt\n",
    "import numpy as np\n",
    "import seaborn as sns\n"
   ]
  },
  {
   "cell_type": "code",
   "execution_count": 2,
   "metadata": {},
   "outputs": [
    {
     "data": {
      "text/html": [
       "<div>\n",
       "<style scoped>\n",
       "    .dataframe tbody tr th:only-of-type {\n",
       "        vertical-align: middle;\n",
       "    }\n",
       "\n",
       "    .dataframe tbody tr th {\n",
       "        vertical-align: top;\n",
       "    }\n",
       "\n",
       "    .dataframe thead th {\n",
       "        text-align: right;\n",
       "    }\n",
       "</style>\n",
       "<table border=\"1\" class=\"dataframe\">\n",
       "  <thead>\n",
       "    <tr style=\"text-align: right;\">\n",
       "      <th></th>\n",
       "      <th>Timestamp</th>\n",
       "      <th>Gender</th>\n",
       "      <th>Your study year</th>\n",
       "      <th>Which department</th>\n",
       "      <th>How many electronic devices do you use?</th>\n",
       "      <th>What is your recent latest CGPA ?</th>\n",
       "      <th>Is there an increase in your CGPA?</th>\n",
       "      <th>Average hour you spent using electronic devices for academic purposes in a day (hours).</th>\n",
       "      <th>What is the purpose of buying the device?</th>\n",
       "    </tr>\n",
       "  </thead>\n",
       "  <tbody>\n",
       "    <tr>\n",
       "      <th>0</th>\n",
       "      <td>7/19/2022 12:26:34</td>\n",
       "      <td>Female</td>\n",
       "      <td>4</td>\n",
       "      <td>Information Technology</td>\n",
       "      <td>2</td>\n",
       "      <td>3.00-3.49</td>\n",
       "      <td>Increase</td>\n",
       "      <td>4-6</td>\n",
       "      <td>Studies, Entertainment, Phone call</td>\n",
       "    </tr>\n",
       "    <tr>\n",
       "      <th>1</th>\n",
       "      <td>7/21/2022 2:19:26</td>\n",
       "      <td>Male</td>\n",
       "      <td>Post Graduate</td>\n",
       "      <td>Business Management</td>\n",
       "      <td>4</td>\n",
       "      <td>3.00-3.49</td>\n",
       "      <td>decrease</td>\n",
       "      <td>1-3</td>\n",
       "      <td>Studies, Entertainment, Online class, games, M...</td>\n",
       "    </tr>\n",
       "    <tr>\n",
       "      <th>2</th>\n",
       "      <td>7/21/2022 18:55:02</td>\n",
       "      <td>Male</td>\n",
       "      <td>3</td>\n",
       "      <td>Information Technology</td>\n",
       "      <td>3</td>\n",
       "      <td>3.50 - 3.99</td>\n",
       "      <td>Increase</td>\n",
       "      <td>4-6</td>\n",
       "      <td>Studies, Entertainment, Online class, Phone call</td>\n",
       "    </tr>\n",
       "    <tr>\n",
       "      <th>3</th>\n",
       "      <td>8/22/2022 10:01:30</td>\n",
       "      <td>Female</td>\n",
       "      <td>3</td>\n",
       "      <td>Engineering</td>\n",
       "      <td>3</td>\n",
       "      <td>2.50-2.99</td>\n",
       "      <td>decrease</td>\n",
       "      <td>1-3</td>\n",
       "      <td>Studies, Entertainment, Online class, games, M...</td>\n",
       "    </tr>\n",
       "    <tr>\n",
       "      <th>4</th>\n",
       "      <td>8/22/2022 10:02:05</td>\n",
       "      <td>Male</td>\n",
       "      <td>2</td>\n",
       "      <td>Architecture &amp; Built Environment</td>\n",
       "      <td>2</td>\n",
       "      <td>3.00-3.49</td>\n",
       "      <td>Increase</td>\n",
       "      <td>4-6</td>\n",
       "      <td>Studies, Entertainment</td>\n",
       "    </tr>\n",
       "  </tbody>\n",
       "</table>\n",
       "</div>"
      ],
      "text/plain": [
       "            Timestamp  Gender Your study year  \\\n",
       "0  7/19/2022 12:26:34  Female               4   \n",
       "1   7/21/2022 2:19:26    Male   Post Graduate   \n",
       "2  7/21/2022 18:55:02    Male               3   \n",
       "3  8/22/2022 10:01:30  Female               3   \n",
       "4  8/22/2022 10:02:05    Male               2   \n",
       "\n",
       "                   Which department  How many electronic devices do you use?  \\\n",
       "0            Information Technology                                        2   \n",
       "1               Business Management                                        4   \n",
       "2            Information Technology                                        3   \n",
       "3                       Engineering                                        3   \n",
       "4  Architecture & Built Environment                                        2   \n",
       "\n",
       "  What is your recent latest CGPA ? Is there an increase in your CGPA?  \\\n",
       "0                         3.00-3.49                           Increase   \n",
       "1                         3.00-3.49                           decrease   \n",
       "2                       3.50 - 3.99                           Increase   \n",
       "3                         2.50-2.99                           decrease   \n",
       "4                         3.00-3.49                           Increase   \n",
       "\n",
       "  Average hour you spent using electronic devices for academic purposes in a day (hours).  \\\n",
       "0                                                4-6                                        \n",
       "1                                                1-3                                        \n",
       "2                                                4-6                                        \n",
       "3                                                1-3                                        \n",
       "4                                                4-6                                        \n",
       "\n",
       "           What is the purpose of buying the device?  \n",
       "0                 Studies, Entertainment, Phone call  \n",
       "1  Studies, Entertainment, Online class, games, M...  \n",
       "2   Studies, Entertainment, Online class, Phone call  \n",
       "3  Studies, Entertainment, Online class, games, M...  \n",
       "4                             Studies, Entertainment  "
      ]
     },
     "execution_count": 2,
     "metadata": {},
     "output_type": "execute_result"
    }
   ],
   "source": [
    "data = pd.read_csv('data gadget.csv')\n",
    "data.head()"
   ]
  },
  {
   "cell_type": "code",
   "execution_count": 3,
   "metadata": {},
   "outputs": [
    {
     "data": {
      "text/plain": [
       "(30, 9)"
      ]
     },
     "execution_count": 3,
     "metadata": {},
     "output_type": "execute_result"
    }
   ],
   "source": [
    "data.shape"
   ]
  },
  {
   "cell_type": "markdown",
   "metadata": {},
   "source": [
    "## change name of columns"
   ]
  },
  {
   "cell_type": "code",
   "execution_count": 4,
   "metadata": {},
   "outputs": [],
   "source": [
    "data.columns = [\"time\", \"gender\",\"year_study\",\"department\",\n",
    "                \"num_gadget\", \"recent_grade\",\"GPA\",\"hour\", \"purpose\"]"
   ]
  },
  {
   "cell_type": "code",
   "execution_count": 5,
   "metadata": {},
   "outputs": [
    {
     "data": {
      "text/html": [
       "<div>\n",
       "<style scoped>\n",
       "    .dataframe tbody tr th:only-of-type {\n",
       "        vertical-align: middle;\n",
       "    }\n",
       "\n",
       "    .dataframe tbody tr th {\n",
       "        vertical-align: top;\n",
       "    }\n",
       "\n",
       "    .dataframe thead th {\n",
       "        text-align: right;\n",
       "    }\n",
       "</style>\n",
       "<table border=\"1\" class=\"dataframe\">\n",
       "  <thead>\n",
       "    <tr style=\"text-align: right;\">\n",
       "      <th></th>\n",
       "      <th>num_gadget</th>\n",
       "    </tr>\n",
       "  </thead>\n",
       "  <tbody>\n",
       "    <tr>\n",
       "      <th>count</th>\n",
       "      <td>30.000000</td>\n",
       "    </tr>\n",
       "    <tr>\n",
       "      <th>mean</th>\n",
       "      <td>2.566667</td>\n",
       "    </tr>\n",
       "    <tr>\n",
       "      <th>std</th>\n",
       "      <td>0.817200</td>\n",
       "    </tr>\n",
       "    <tr>\n",
       "      <th>min</th>\n",
       "      <td>1.000000</td>\n",
       "    </tr>\n",
       "    <tr>\n",
       "      <th>25%</th>\n",
       "      <td>2.000000</td>\n",
       "    </tr>\n",
       "    <tr>\n",
       "      <th>50%</th>\n",
       "      <td>2.000000</td>\n",
       "    </tr>\n",
       "    <tr>\n",
       "      <th>75%</th>\n",
       "      <td>3.000000</td>\n",
       "    </tr>\n",
       "    <tr>\n",
       "      <th>max</th>\n",
       "      <td>4.000000</td>\n",
       "    </tr>\n",
       "  </tbody>\n",
       "</table>\n",
       "</div>"
      ],
      "text/plain": [
       "       num_gadget\n",
       "count   30.000000\n",
       "mean     2.566667\n",
       "std      0.817200\n",
       "min      1.000000\n",
       "25%      2.000000\n",
       "50%      2.000000\n",
       "75%      3.000000\n",
       "max      4.000000"
      ]
     },
     "execution_count": 5,
     "metadata": {},
     "output_type": "execute_result"
    }
   ],
   "source": [
    "data.describe()"
   ]
  },
  {
   "cell_type": "code",
   "execution_count": 6,
   "metadata": {},
   "outputs": [
    {
     "name": "stdout",
     "output_type": "stream",
     "text": [
      "<class 'pandas.core.frame.DataFrame'>\n",
      "RangeIndex: 30 entries, 0 to 29\n",
      "Data columns (total 9 columns):\n",
      " #   Column        Non-Null Count  Dtype \n",
      "---  ------        --------------  ----- \n",
      " 0   time          30 non-null     object\n",
      " 1   gender        30 non-null     object\n",
      " 2   year_study    30 non-null     object\n",
      " 3   department    30 non-null     object\n",
      " 4   num_gadget    30 non-null     int64 \n",
      " 5   recent_grade  30 non-null     object\n",
      " 6   GPA           30 non-null     object\n",
      " 7   hour          30 non-null     object\n",
      " 8   purpose       30 non-null     object\n",
      "dtypes: int64(1), object(8)\n",
      "memory usage: 2.2+ KB\n"
     ]
    }
   ],
   "source": [
    "data.info()"
   ]
  },
  {
   "cell_type": "markdown",
   "metadata": {},
   "source": [
    "## split values in column hour "
   ]
  },
  {
   "cell_type": "code",
   "execution_count": 7,
   "metadata": {},
   "outputs": [],
   "source": [
    "data[\"daily_hours\"] = (data[\"hour\"].str.split(\"-\",expand=True)[0].astype(int)+ data[\"hour\"].\n",
    "                       str.split(\"-\",expand=True)[1].astype(int))/2"
   ]
  },
  {
   "cell_type": "markdown",
   "metadata": {},
   "source": [
    "## average hours spent in front of gadgets"
   ]
  },
  {
   "cell_type": "code",
   "execution_count": 8,
   "metadata": {},
   "outputs": [
    {
     "data": {
      "image/png": "[encoded data removed]",
      "text/plain": [
       "<Figure size 1080x720 with 1 Axes>"
      ]
     },
     "metadata": {
      "needs_background": "light"
     },
     "output_type": "display_data"
    }
   ],
   "source": [
    "pd.pivot_table(data, index = 'gender', columns= \"GPA\", values= \"daily_hours\", aggfunc='count').plot(kind=\"barh\", figsize =(15, 10))\n",
    "plt.xlabel(\"average hours spent in front of gadgets\", fontsize =15, labelpad= 14)\n",
    "plt.grid()"
   ]
  },
  {
   "cell_type": "markdown",
   "metadata": {},
   "source": [
    "according to the visualization above, we get an insight that the use of gadgets based on GPA parameters increases among male up to 8 hours per day compared to Female which is only 3 hours per day."
   ]
  },
  {
   "cell_type": "code",
   "execution_count": 9,
   "metadata": {},
   "outputs": [
    {
     "data": {
      "image/png": "[encoded data removed]",
      "text/plain": [
       "<Figure size 720x720 with 1 Axes>"
      ]
     },
     "metadata": {},
     "output_type": "display_data"
    }
   ],
   "source": [
    "freq = data['purpose'].str.split(',', expand = True).stack().value_counts()\n",
    "plt.figure(figsize = (10,10))\n",
    "plt.pie(freq, autopct='%.1f', explode = (0.07,0.05,0.05,0.01,0.01,0.01,0.01), labels = freq.index);"
   ]
  },
  {
   "cell_type": "markdown",
   "metadata": {},
   "source": [
    "based on the pie chart that has been made, it is found that most of the use of gadgets is used for purposes for studies which get more than 24%, 21% for entertainment, 19% for phone calls and the rest is used for online classes, movies and games."
   ]
  },
  {
   "cell_type": "code",
   "execution_count": 10,
   "metadata": {},
   "outputs": [
    {
     "data": {
      "text/plain": [
       "Studies, Entertainment, Online class, games, Movies, Phone call    7\n",
       "Studies, Entertainment, Online class, Phone call                   7\n",
       "Studies, Entertainment                                             5\n",
       "Studies, Entertainment, Phone call                                 3\n",
       "Studies, Entertainment, Online class                               2\n",
       "Studies, Online class, Phone call                                  2\n",
       "Studies, Online class, games, Movies, Phone call                   1\n",
       "Studies, Entertainment, games, Movies, Phone call                  1\n",
       "Studies, Online class, Movies, Phone call                          1\n",
       "Online class, Movies, Phone call                                   1\n",
       "Name: purpose, dtype: int64"
      ]
     },
     "execution_count": 10,
     "metadata": {},
     "output_type": "execute_result"
    }
   ],
   "source": [
    "data[\"purpose\"].value_counts()"
   ]
  },
  {
   "cell_type": "code",
   "execution_count": 11,
   "metadata": {},
   "outputs": [
    {
     "data": {
      "text/plain": [
       "<seaborn.axisgrid.FacetGrid at 0x1b33f35db10>"
      ]
     },
     "execution_count": 11,
     "metadata": {},
     "output_type": "execute_result"
    },
    {
     "data": {
      "image/png": "[encoded data removed]",
      "text/plain": [
       "<Figure size 360x360 with 1 Axes>"
      ]
     },
     "metadata": {
      "needs_background": "light"
     },
     "output_type": "display_data"
    }
   ],
   "source": [
    "sns.displot(data = data, x = \"num_gadget\", bins = [0, 1, 2, 3, 4,5,6])"
   ]
  },
  {
   "cell_type": "markdown",
   "metadata": {},
   "source": [
    "The factor of using gadgets is not only the duration when using them, but also how many people have these gadgets. According to the data in the histogram above, most people have 2 gadgets at once."
   ]
  },
  {
   "cell_type": "code",
   "execution_count": 12,
   "metadata": {},
   "outputs": [
    {
     "data": {
      "text/plain": [
       "Text(0, 0.5, 'daily hours spent in front of gadgets')"
      ]
     },
     "execution_count": 12,
     "metadata": {},
     "output_type": "execute_result"
    },
    {
     "data": {
      "image/png": "[encoded data removed]",
      "text/plain": [
       "<Figure size 1008x576 with 1 Axes>"
      ]
     },
     "metadata": {
      "needs_background": "light"
     },
     "output_type": "display_data"
    }
   ],
   "source": [
    "pd.pivot_table(data, index = \"year_study\", columns= \"gender\", values = [\"daily_hours\"]).plot(kind = \"bar\", figsize= (14, 8))\n",
    "plt.ylabel(\"daily hours spent in front of gadgets\")"
   ]
  },
  {
   "cell_type": "markdown",
   "metadata": {},
   "source": [
    "Based on the data above, it is found that men who are in year 4 at college spend more time in front of gadgets than women in year 4 who only spend time in front of gadgets less than 8 hours per day"
   ]
  },
  {
   "cell_type": "code",
   "execution_count": 13,
   "metadata": {},
   "outputs": [
    {
     "data": {
      "text/html": [
       "<div>\n",
       "<style scoped>\n",
       "    .dataframe tbody tr th:only-of-type {\n",
       "        vertical-align: middle;\n",
       "    }\n",
       "\n",
       "    .dataframe tbody tr th {\n",
       "        vertical-align: top;\n",
       "    }\n",
       "\n",
       "    .dataframe thead th {\n",
       "        text-align: right;\n",
       "    }\n",
       "</style>\n",
       "<table border=\"1\" class=\"dataframe\">\n",
       "  <thead>\n",
       "    <tr style=\"text-align: right;\">\n",
       "      <th></th>\n",
       "      <th>num_gadget</th>\n",
       "    </tr>\n",
       "    <tr>\n",
       "      <th>department</th>\n",
       "      <th></th>\n",
       "    </tr>\n",
       "  </thead>\n",
       "  <tbody>\n",
       "    <tr>\n",
       "      <th>Business Management</th>\n",
       "      <td>3.000000</td>\n",
       "    </tr>\n",
       "    <tr>\n",
       "      <th>Creative Industries</th>\n",
       "      <td>3.000000</td>\n",
       "    </tr>\n",
       "    <tr>\n",
       "      <th>Information Technology</th>\n",
       "      <td>2.600000</td>\n",
       "    </tr>\n",
       "    <tr>\n",
       "      <th>Allied Health Sciences</th>\n",
       "      <td>2.500000</td>\n",
       "    </tr>\n",
       "    <tr>\n",
       "      <th>Engineering</th>\n",
       "      <td>2.500000</td>\n",
       "    </tr>\n",
       "    <tr>\n",
       "      <th>Hospitality &amp; Tourism</th>\n",
       "      <td>2.333333</td>\n",
       "    </tr>\n",
       "    <tr>\n",
       "      <th>Architecture &amp; Built Environment</th>\n",
       "      <td>2.000000</td>\n",
       "    </tr>\n",
       "    <tr>\n",
       "      <th>Education &amp; Liberal Studies</th>\n",
       "      <td>2.000000</td>\n",
       "    </tr>\n",
       "  </tbody>\n",
       "</table>\n",
       "</div>"
      ],
      "text/plain": [
       "                                  num_gadget\n",
       "department                                  \n",
       "Business Management                 3.000000\n",
       "Creative Industries                 3.000000\n",
       "Information Technology              2.600000\n",
       "Allied Health Sciences              2.500000\n",
       "Engineering                         2.500000\n",
       "Hospitality & Tourism               2.333333\n",
       "Architecture & Built Environment    2.000000\n",
       "Education & Liberal Studies         2.000000"
      ]
     },
     "execution_count": 13,
     "metadata": {},
     "output_type": "execute_result"
    }
   ],
   "source": [
    "data[[\"department\", \"num_gadget\"]].groupby(\"department\").mean().sort_values(\"num_gadget\", ascending = False)"
   ]
  },
  {
   "cell_type": "markdown",
   "metadata": {},
   "source": [
    "Business management and creative industries majors are majors that spend an average of their time in front of gadgets"
   ]
  },
  {
   "cell_type": "code",
   "execution_count": 14,
   "metadata": {},
   "outputs": [
    {
     "data": {
      "image/png": "[encoded data removed]",
      "text/plain": [
       "<Figure size 1080x504 with 1 Axes>"
      ]
     },
     "metadata": {
      "needs_background": "light"
     },
     "output_type": "display_data"
    }
   ],
   "source": [
    "data.groupby(\"recent_grade\").mean().plot(kind = \"barh\", figsize= (15, 7))\n",
    "plt.grid()"
   ]
  },
  {
   "cell_type": "markdown",
   "metadata": {},
   "source": [
    "someone who has a GPA below 2.50 - 2.99 has a track record of interacting with gadgets more than someone who has a GPA above 2.50.\n",
    "The conclusions that can be drawn from the above analysis are\n",
    "- the use of gadgets must be adjusted according to their respective needs and capacities\n",
    "- the use of gadgets does have positive and negative impacts depending on who is holding the gadget.\n",
    "- don't get carried away with gadgets that can make us even more lazy - on the contrary, with gadgets that are already around us, we must be more able to control ourselves in using gadgets so that they don't become boomerangs in the future."
   ]
  },
  {
   "cell_type": "code",
   "execution_count": null,
   "metadata": {},
   "outputs": [],
   "source": []
  }
 ],
 "metadata": {
  "kernelspec": {
   "display_name": "Python 3.10.4 64-bit",
   "language": "python",
   "name": "python3"
  },
  "language_info": {
   "codemirror_mode": {
    "name": "ipython",
    "version": 3
   },
   "file_extension": ".py",
   "mimetype": "text/x-python",
   "name": "python",
   "nbconvert_exporter": "python",
   "pygments_lexer": "ipython3",
   "version": "3.10.4"
  },
  "orig_nbformat": 4,
  "vscode": {
   "interpreter": {
    "hash": "70274f112977247008636aff9404af04020e87b3d12b8051c3e709b51e5e8025"
   }
  }
 },
 "nbformat": 4,
 "nbformat_minor": 2
}
